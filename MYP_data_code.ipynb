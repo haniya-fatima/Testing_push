{
  "cells": [
    {
      "cell_type": "code",
      "source": [
        "import pandas as pd\n",
        "import re\n",
        "\n",
        "# Sample data - replace this with loading your Excel file\n",
        "data_df = pd.read_excel('your_data.xlsx', header=None, names=['Key', 'Value'])\n",
        "\n",
        "\n",
        "\n",
        "# Initialize an empty list to store the formatted data\n",
        "formatted_data = []\n",
        "\n",
        "# Function to extract subject and grade\n",
        "def extract_subject_and_grade(subject):\n",
        "    match = re.match(r\"(.*) (\\d+|[A-D])$\", subject)\n",
        "    if match:\n",
        "        return match.groups()\n",
        "    return subject, \"N/A\"\n",
        "\n",
        "# Split data into blocks by 'Personal Details' rows\n",
        "blocks = []\n",
        "block = []\n",
        "\n",
        "for _, row in data_df.iterrows():\n",
        "    if 'Personal Details' in row['Key']:\n",
        "        if block:\n",
        "            blocks.append(block)\n",
        "            block = []\n",
        "    block.append(row)\n",
        "if block:\n",
        "    blocks.append(block)\n",
        "\n",
        "# Process each block\n",
        "for block in blocks:\n",
        "    candidate_info = {}\n",
        "    subjects_grades = []\n",
        "\n",
        "    for item in block:\n",
        "        key, value = item['Key'], item['Value']\n",
        "        if key == 'Candidate':\n",
        "            personal_code = value.split()[-1].replace(\"(\", \"\").replace(\")\", \"\").strip()\n",
        "            candidate_info['Personal code'] = personal_code\n",
        "        elif key == 'Name':\n",
        "            candidate_info['Name'] = value\n",
        "        elif key == 'Category':\n",
        "            candidate_info['Category'] = value\n",
        "        elif key == 'Birth Date':\n",
        "            candidate_info['Birth Date'] = value\n",
        "        elif key == 'Result':\n",
        "            candidate_info['Result'] = value\n",
        "        elif 'Subject Details' in key:\n",
        "            continue\n",
        "        elif 'Total Points' in key:\n",
        "            candidate_info['Total Points'] = value\n",
        "        else:\n",
        "            subjects_grades.append((key, value))\n",
        "\n",
        "    for subject, grade in subjects_grades:\n",
        "        subject, grade = extract_subject_and_grade(subject)\n",
        "        formatted_data.append({\n",
        "            \"Personal code\": candidate_info.get('Personal code', 'N/A'),\n",
        "            \"Name\": candidate_info.get('Name', 'N/A'),\n",
        "            \"Category\": candidate_info.get('Category', 'N/A'),\n",
        "            \"Subjects\": subject,\n",
        "            \"Grade\": grade,\n",
        "            \"Result\": candidate_info.get('Result', 'N/A')\n",
        "        })\n",
        "\n",
        "    if 'Total Points' in candidate_info:\n",
        "        formatted_data.append({\n",
        "            \"Personal code\": candidate_info.get('Personal code', 'N/A'),\n",
        "            \"Name\": candidate_info.get('Name', 'N/A'),\n",
        "            \"Category\": candidate_info.get('Category', 'N/A'),\n",
        "            \"Subjects\": \"Total Points\",\n",
        "            \"Grade\": candidate_info['Total Points'],\n",
        "            \"Result\": candidate_info.get('Result', 'N/A')\n",
        "        })\n",
        "\n",
        "# Convert formatted data to a DataFrame\n",
        "df_formatted = pd.DataFrame(formatted_data)\n",
        "\n",
        "# Save DataFrame to CSV\n",
        "df_formatted.to_csv('formatted_output.csv', index=False)\n",
        "\n",
        "print(\"Formatted data saved to formatted_output.csv\")\n"
      ],
      "metadata": {
        "id": "JWy7ddj9J8fc",
        "outputId": "972f0b6c-b420-40e2-e0d2-ec9e76863a45",
        "colab": {
          "base_uri": "https://localhost:8080/"
        }
      },
      "execution_count": null,
      "outputs": [
        {
          "output_type": "stream",
          "name": "stdout",
          "text": [
            "Formatted data saved to formatted_output.csv\n"
          ]
        }
      ]
    },
    {
      "cell_type": "code",
      "source": [
        "# not important\n",
        "\n",
        "\n",
        "\n",
        "import pandas as pd\n",
        "\n",
        "# Assuming formatted_data is already created as in your previous code\n",
        "# Convert formatted data to a DataFrame\n",
        "df_formatted = pd.DataFrame(formatted_data)\n",
        "\n",
        "# Define the texts to filter out\n",
        "texts_to_filter = [\"Personal Details\", \"Additional subjects\", \"All CS (Community service) requirements have been fully satisfied.\"]\n",
        "\n",
        "# Filter out rows that contain any of the specified texts in the \"Subjects\" column\n",
        "df_filtered = df_formatted[~df_formatted['Subjects'].isin(texts_to_filter)]\n",
        "\n",
        "# Save the filtered DataFrame to CSV\n",
        "df_filtered.to_csv('formatted_output_filtered.csv', index=False)\n",
        "\n",
        "print(\"Filtered data saved to formatted_output_filtered.csv\")\n"
      ],
      "metadata": {
        "colab": {
          "base_uri": "https://localhost:8080/"
        },
        "id": "D4TL4V-D6cWl",
        "outputId": "1b7f7334-6e8a-4db7-ec2b-f50497bac865"
      },
      "execution_count": null,
      "outputs": [
        {
          "output_type": "stream",
          "name": "stdout",
          "text": [
            "Filtered data saved to formatted_output_filtered.csv\n"
          ]
        }
      ]
    },
    {
      "cell_type": "code",
      "source": [
        "# not important\n",
        "\n",
        "import pandas as pd\n",
        "\n",
        "\n",
        "\n",
        "# Define the texts to filter out\n",
        "texts_to_filter = [\"Personal Details\", \"Additional subjects\", \"All CS (Community service) requirements have been fully satisfied.\"]\n",
        "\n",
        "# Filter out rows that contain any of the specified texts in the \"Subjects\" column\n",
        "df_filtered = df_formatted[~df_formatted['Subjects'].isin(texts_to_filter)]\n",
        "\n",
        "# Add 'Additional Subject' column\n",
        "df_filtered['Additional Subject'] = ''\n",
        "\n",
        "# Identify and mark additional subjects\n",
        "additional_subject = False\n",
        "for i, row in df_filtered.iterrows():\n",
        "    if row['Subjects'] == 'Additional subjects':\n",
        "        additional_subject = True\n",
        "    elif row['Subjects'] == 'All CS (Community service) requirements have been fully satisfied.':\n",
        "        additional_subject = False\n",
        "    if additional_subject:\n",
        "        df_filtered.at[i, 'Additional Subject'] = 'Additional Subject'\n",
        "\n",
        "# Save the filtered DataFrame to CSV\n",
        "df_filtered.to_csv('formatted_output_filtered.csv', index=False)\n",
        "\n",
        "print(\"Filtered data saved to formatted_output_filtered.csv\")\n"
      ],
      "metadata": {
        "id": "aHbUxEeYJ9br",
        "colab": {
          "base_uri": "https://localhost:8080/"
        },
        "outputId": "12af4d88-9eee-4fe7-a629-8991c688b4dc"
      },
      "execution_count": null,
      "outputs": [
        {
          "output_type": "stream",
          "name": "stdout",
          "text": [
            "Filtered data saved to formatted_output_filtered.csv\n"
          ]
        },
        {
          "output_type": "stream",
          "name": "stderr",
          "text": [
            "<ipython-input-6-3a5d47e6de82>:12: SettingWithCopyWarning: \n",
            "A value is trying to be set on a copy of a slice from a DataFrame.\n",
            "Try using .loc[row_indexer,col_indexer] = value instead\n",
            "\n",
            "See the caveats in the documentation: https://pandas.pydata.org/pandas-docs/stable/user_guide/indexing.html#returning-a-view-versus-a-copy\n",
            "  df_filtered['Additional Subject'] = ''\n"
          ]
        }
      ]
    },
    {
      "cell_type": "code",
      "source": [
        "#this is working for adding a new columnn for additional subjects'\n",
        "\n",
        "\n",
        "import pandas as pd\n",
        "\n",
        "\n",
        "# Define the texts to filter out\n",
        "texts_to_filter = [\"Personal Details\", \"Additional subjects\", \"All CS (Community service) requirements have been fully satisfied.\"]\n",
        "\n",
        "# Filter out rows that contain any of the specified texts in the \"Subjects\" column\n",
        "df_filtered = df_formatted[~df_formatted['Subjects'].isin(texts_to_filter)]\n",
        "\n",
        "# Add 'Additional Subject' column\n",
        "df_formatted['Additional Subject'] = ''\n",
        "\n",
        "# Identify and mark additional subjects\n",
        "additional_subject = False\n",
        "for i, row in df_formatted.iterrows():\n",
        "    if row['Subjects'] == 'Additional subjects':\n",
        "        additional_subject = True\n",
        "    elif row['Subjects'] == 'All CS (Community service) requirements have been fully satisfied.':\n",
        "        additional_subject = False\n",
        "    if additional_subject:\n",
        "        df_formatted.at[i, 'Additional Subject'] = 'Additional Subject'\n",
        "\n",
        "# Re-filter out the \"Personal Details\", \"Additional subjects\", and \"All CS (Community service) requirements have been fully satisfied.\" rows\n",
        "df_filtered = df_formatted[~df_formatted['Subjects'].isin(texts_to_filter)]\n",
        "\n",
        "# Save the filtered DataFrame to CSV\n",
        "df_filtered.to_csv('formatted_output_filtered.csv', index=False)\n",
        "\n",
        "print(\"Filtered data saved to formatted_output_filtered.csv\")\n"
      ],
      "metadata": {
        "colab": {
          "base_uri": "https://localhost:8080/"
        },
        "id": "UM2W2tDO_D5c",
        "outputId": "41f0a67c-8858-4185-fba3-d94934cc5238"
      },
      "execution_count": null,
      "outputs": [
        {
          "output_type": "stream",
          "name": "stdout",
          "text": [
            "Filtered data saved to formatted_output_filtered.csv\n"
          ]
        }
      ]
    },
    {
      "cell_type": "code",
      "source": [],
      "metadata": {
        "id": "glu_FIlDA3b7"
      },
      "execution_count": null,
      "outputs": []
    }
  ],
  "metadata": {
    "colab": {
      "provenance": []
    },
    "kernelspec": {
      "display_name": "Python 3",
      "name": "python3"
    }
  },
  "nbformat": 4,
  "nbformat_minor": 0
}