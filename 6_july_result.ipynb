{
  "nbformat": 4,
  "nbformat_minor": 0,
  "metadata": {
    "colab": {
      "provenance": []
    },
    "kernelspec": {
      "name": "python3",
      "display_name": "Python 3"
    },
    "language_info": {
      "name": "python"
    }
  },
  "cells": [
    {
      "cell_type": "code",
      "execution_count": 2,
      "metadata": {
        "colab": {
          "base_uri": "https://localhost:8080/"
        },
        "id": "GKJ8MZo_F5c4",
        "outputId": "12eba44c-d28a-4b3a-9e62-8991b10270fc"
      },
      "outputs": [
        {
          "output_type": "stream",
          "name": "stdout",
          "text": [
            "Processed data has been saved to processed_data.csv\n"
          ]
        }
      ],
      "source": [
        "import pandas as pd\n",
        "\n",
        "# Read the data from the file\n",
        "file_path = 'Raw_Data.xlsx'\n",
        "data = pd.read_excel(file_path, header=None, names=['Course'])\n",
        "\n",
        "# Function to determine the level\n",
        "def determine_level(course):\n",
        "    if 'HL' in course:\n",
        "        return 'High Level'\n",
        "    elif 'SL' in course:\n",
        "        return 'Standard Level'\n",
        "    elif 'EE' in course or 'TK' in course:\n",
        "        return 'Core'\n",
        "    else:\n",
        "        return 'Unknown'\n",
        "\n",
        "# Create the new column\n",
        "data['Level'] = data['Course'].apply(determine_level)\n",
        "\n",
        "# Reorder the columns\n",
        "data = data[['Level', 'Course']]\n",
        "\n",
        "# Save the modified data to a new file\n",
        "output_file_path = 'processed_data.csv'\n",
        "data.to_csv(output_file_path, index=False)\n",
        "\n",
        "print(\"Processed data has been saved to\", output_file_path)\n"
      ]
    },
    {
      "cell_type": "code",
      "source": [
        "import pandas as pd\n",
        "\n",
        "# Read the existing data from the file\n",
        "file_path = 'processed_data.xlsx'\n",
        "data = pd.read_excel(file_path)\n",
        "\n",
        "# Function to determine the new classification\n",
        "def classify_level(level):\n",
        "    if level in ['High Level', 'Standard Level']:\n",
        "        return 'Regular'\n",
        "    elif level == 'Core':\n",
        "        return 'Core'\n",
        "    elif level == 'Total Points':\n",
        "        return 'Total Points'\n",
        "    else:\n",
        "        return 'Unknown'\n",
        "\n",
        "# Create the new column\n",
        "data['Classification'] = data['Level'].apply(classify_level)\n",
        "\n",
        "# Reorder the columns to make 'Classification' the third column\n",
        "cols = list(data.columns)\n",
        "cols.insert(2, cols.pop(cols.index('Classification')))\n",
        "data = data[cols]\n",
        "\n",
        "# Save the modified data to a new file\n",
        "output_file_path = 'classified_data.csv'\n",
        "data.to_csv(output_file_path, index=False)\n",
        "\n",
        "print(\"Classified data has been saved to\", output_file_path)\n"
      ],
      "metadata": {
        "colab": {
          "base_uri": "https://localhost:8080/"
        },
        "id": "KWgXczhcGa1w",
        "outputId": "99fc2415-ab82-4221-c8a0-a10c887d7141"
      },
      "execution_count": 4,
      "outputs": [
        {
          "output_type": "stream",
          "name": "stdout",
          "text": [
            "Classified data has been saved to classified_data.csv\n"
          ]
        }
      ]
    },
    {
      "cell_type": "code",
      "source": [
        "import pandas as pd\n",
        "import re\n",
        "\n",
        "# Load data from Excel file\n",
        "data = pd.read_excel('stud_data.xlsx', header=None)\n",
        "\n",
        "# Initialize an empty list to store the formatted data\n",
        "formatted_data = []\n",
        "\n",
        "# Function to determine the level and core status\n",
        "def get_level_and_core(subject):\n",
        "    if \"HL\" in subject:\n",
        "        level = \"Higher Level\"\n",
        "    elif \"SL\" in subject:\n",
        "        level = \"Standard Level\"\n",
        "    else:\n",
        "        level = \"N/A\"\n",
        "\n",
        "    if \"EE\" in subject or \"THEORY KNOWL. TK\" in subject:\n",
        "        core = \"Core\"\n",
        "    else:\n",
        "        core = \"Regular\"\n",
        "\n",
        "    return level, core\n",
        "\n",
        "# Function to extract subject and grade\n",
        "def extract_subject_and_grade(subject):\n",
        "    match = re.match(r\"(.*) (\\d+|[A-D])$\", subject)\n",
        "    if match:\n",
        "        return match.groups()\n",
        "    return subject, \"N/A\"\n",
        "\n",
        "# Split data into blocks by empty rows\n",
        "blocks = []\n",
        "block = []\n",
        "\n",
        "for _, row in data.iterrows():\n",
        "    if row.isnull().all():\n",
        "        if block:\n",
        "            blocks.append(block)\n",
        "            block = []\n",
        "    else:\n",
        "        block.append(row)\n",
        "if block:\n",
        "    blocks.append(block)\n",
        "\n",
        "# Process each block\n",
        "for block in blocks:\n",
        "    candidate_info = {}\n",
        "    subjects_grades = []\n",
        "\n",
        "    for item in block:\n",
        "        key, value = item[0], item[1]\n",
        "        if key == 'Candidate':\n",
        "            personal_code = value.split()[-1].replace(\"(\", \"\").replace(\")\", \"\").strip()\n",
        "            candidate_info['Personal code'] = personal_code\n",
        "        elif key == 'Name':\n",
        "            candidate_info['Name'] = value\n",
        "            candidate_info['Gender'] = \"F\" if \"female\" in value.lower() else \"M\"  # Placeholder, adjust as needed\n",
        "        elif key == 'Category':\n",
        "            candidate_info['Category'] = value\n",
        "        elif key == 'Birth Date':\n",
        "            candidate_info['Birth Date'] = value\n",
        "        elif key == 'Result':\n",
        "            candidate_info['Result'] = value\n",
        "        elif key == 'EE/TOK points':\n",
        "            candidate_info['EE/TOK points'] = value\n",
        "        elif key == 'Total Points':\n",
        "            candidate_info['Total Points'] = value\n",
        "        elif 'MAY' in key:\n",
        "            subjects_grades.append((key, value))\n",
        "\n",
        "    for subject, grade in subjects_grades:\n",
        "        subject, grade = extract_subject_and_grade(subject)\n",
        "        level, core = get_level_and_core(subject)\n",
        "        formatted_data.append({\n",
        "            \"Personal code\": candidate_info.get('Personal code', 'N/A'),\n",
        "            \"Name\": candidate_info.get('Name', 'N/A'),\n",
        "            \"Gender\": candidate_info.get('Gender', 'N/A'),\n",
        "            \"Category\": candidate_info.get('Category', 'N/A'),\n",
        "            \"Subjects\": subject,\n",
        "            \"TOTAL POINTS/Core/HL/SL\": level,\n",
        "            \"TOTAL POINTS/Core/Regular/Additional Subject\": core,\n",
        "            \"Grade\": grade,\n",
        "            \"Result\": candidate_info.get('Result', 'N/A')\n",
        "        })\n",
        "\n",
        "    # Adding EE/TOK points and Total Points if they exist\n",
        "    if 'EE/TOK points' in candidate_info:\n",
        "        formatted_data.append({\n",
        "            \"Personal code\": candidate_info.get('Personal code', 'N/A'),\n",
        "            \"Name\": candidate_info.get('Name', 'N/A'),\n",
        "            \"Gender\": candidate_info.get('Gender', 'N/A'),\n",
        "            \"Category\": candidate_info.get('Category', 'N/A'),\n",
        "            \"Subjects\": \"EE/TOK points\",\n",
        "            \"TOTAL POINTS/Core/HL/SL\": \"Core\",\n",
        "            \"TOTAL POINTS/Core/Regular/Additional Subject\": \"Core\",\n",
        "            \"Grade\": candidate_info['EE/TOK points'],\n",
        "            \"Result\": candidate_info.get('Result', 'N/A')\n",
        "        })\n",
        "    if 'Total Points' in candidate_info:\n",
        "        formatted_data.append({\n",
        "            \"Personal code\": candidate_info.get('Personal code', 'N/A'),\n",
        "            \"Name\": candidate_info.get('Name', 'N/A'),\n",
        "            \"Gender\": candidate_info.get('Gender', 'N/A'),\n",
        "            \"Category\": candidate_info.get('Category', 'N/A'),\n",
        "            \"Subjects\": \"Total Points\",\n",
        "            \"TOTAL POINTS/Core/HL/SL\": \"Total Points\",\n",
        "            \"TOTAL POINTS/Core/Regular/Additional Subject\": \"Total Points\",\n",
        "            \"Grade\": candidate_info['Total Points'],\n",
        "            \"Result\": candidate_info.get('Result', 'N/A')\n",
        "        })\n",
        "\n",
        "# Convert formatted data to a DataFrame\n",
        "df_formatted = pd.DataFrame(formatted_data)\n",
        "\n",
        "# Save DataFrame to CSV\n",
        "df_formatted.to_csv('formatted_output.csv', index=False)\n",
        "\n",
        "print(\"Formatted data saved to formatted_output.csv\")\n"
      ],
      "metadata": {
        "colab": {
          "base_uri": "https://localhost:8080/"
        },
        "id": "DfINI55BQMhM",
        "outputId": "cb7e0d24-a958-4a60-9395-f3c625f03f5e"
      },
      "execution_count": 26,
      "outputs": [
        {
          "output_type": "stream",
          "name": "stdout",
          "text": [
            "Formatted data saved to formatted_output.csv\n"
          ]
        }
      ]
    },
    {
      "cell_type": "code",
      "source": [],
      "metadata": {
        "id": "800TigFZeyO7"
      },
      "execution_count": null,
      "outputs": []
    }
  ]
}